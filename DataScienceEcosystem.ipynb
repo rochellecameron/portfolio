{
 "cells": [
  {
   "cell_type": "markdown",
   "id": "78cba93d-edd2-472d-934c-a31beceb2ca1",
   "metadata": {},
   "source": [
    "# Data Science Tools and Ecosystem"
   ]
  },
  {
   "cell_type": "markdown",
   "id": "3676b028-9215-4d29-85b6-4e36b5c40b15",
   "metadata": {},
   "source": [
    "In this notebook, Data Science Tools and Ecosystem are summarized."
   ]
  },
  {
   "cell_type": "markdown",
   "id": "cee7fc75-51c7-4522-a5b0-9d0bb60adeff",
   "metadata": {},
   "source": [
    "**Objectives:**\n",
    "+ List popular languages for data science\n",
    "+ Show understanding of how to create an ordered list in a Jupyter notebook markdown cell\n",
    "+ List commonly used libraries used by data scientists"
   ]
  },
  {
   "cell_type": "markdown",
   "id": "73685090-cfd2-4ce2-a3f7-8cb538b2ade9",
   "metadata": {},
   "source": [
    "Some of the popular languages that Data Scientists use are:\n",
    "1. Python\n",
    "2. R\n",
    "3. SQL"
   ]
  },
  {
   "cell_type": "markdown",
   "id": "fdd05ecd-daed-48d3-b1e9-5b8acaa68d3c",
   "metadata": {},
   "source": [
    "Some of the commonly used libraries used by Data Scientists include:\n",
    "\n",
    "1. Pandas\n",
    "2. NumPy\n",
    "3. scikit-learn"
   ]
  },
  {
   "cell_type": "markdown",
   "id": "300b341b-04ce-4a57-8cb4-f1fe76af407f",
   "metadata": {},
   "source": [
    "| Data Science Tools |\n",
    "|---------------------|\n",
    "| Weka |\n",
    "| Hadoop |\n",
    "| Spark |"
   ]
  },
  {
   "cell_type": "markdown",
   "id": "2a5e9918-c4a1-4b4a-8465-41c6af1aaa91",
   "metadata": {},
   "source": [
    "### Below are a few examples of evaluating arithmetic expressions in Python.\n",
    "\n",
    "2 + 4\n",
    "\n",
    "9 - 3\n",
    "\n",
    "768 + (33 - 2)\n"
   ]
  },
  {
   "cell_type": "code",
   "execution_count": 6,
   "id": "695fe0dd-2949-49aa-a962-7d39f4edd92f",
   "metadata": {},
   "outputs": [
    {
     "data": {
      "text/plain": [
       "17"
      ]
     },
     "execution_count": 6,
     "metadata": {},
     "output_type": "execute_result"
    }
   ],
   "source": [
    "#This is a simple arithmetic expression to multiply then add integers\n",
    "(3*4)+5"
   ]
  },
  {
   "cell_type": "code",
   "execution_count": 7,
   "id": "32c32f9c-6c4f-474b-9022-486ecc2b4f38",
   "metadata": {},
   "outputs": [
    {
     "data": {
      "text/plain": [
       "3.3333333333333335"
      ]
     },
     "execution_count": 7,
     "metadata": {},
     "output_type": "execute_result"
    }
   ],
   "source": [
    "#This will convert 200 minutes to hours by dividing by 60.\n",
    "\n",
    "200/60"
   ]
  },
  {
   "cell_type": "markdown",
   "id": "81962e67-47ab-495a-8a6a-78573ef8a499",
   "metadata": {},
   "source": [
    "## Author\n",
    "Rochelle Cameron"
   ]
  }
 ],
 "metadata": {
  "kernelspec": {
   "display_name": "Python [conda env:base] *",
   "language": "python",
   "name": "conda-base-py"
  },
  "language_info": {
   "codemirror_mode": {
    "name": "ipython",
    "version": 3
   },
   "file_extension": ".py",
   "mimetype": "text/x-python",
   "name": "python",
   "nbconvert_exporter": "python",
   "pygments_lexer": "ipython3",
   "version": "3.12.7"
  }
 },
 "nbformat": 4,
 "nbformat_minor": 5
}
